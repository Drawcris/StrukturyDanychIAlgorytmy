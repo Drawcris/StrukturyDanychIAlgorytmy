{
 "cells": [
  {
   "cell_type": "code",
   "id": "initial_id",
   "metadata": {
    "collapsed": true,
    "ExecuteTime": {
     "end_time": "2025-05-01T16:41:48.099105Z",
     "start_time": "2025-05-01T16:41:48.094713Z"
    }
   },
   "source": "import queue",
   "outputs": [],
   "execution_count": 1
  },
  {
   "metadata": {
    "ExecuteTime": {
     "end_time": "2025-05-01T16:45:45.707919Z",
     "start_time": "2025-05-01T16:45:45.700924Z"
    }
   },
   "cell_type": "code",
   "source": "q = queue.Queue()",
   "id": "acd1ba860c39fb2",
   "outputs": [],
   "execution_count": 17
  },
  {
   "metadata": {
    "ExecuteTime": {
     "end_time": "2025-05-01T16:46:46.324901Z",
     "start_time": "2025-05-01T16:46:46.316232Z"
    }
   },
   "cell_type": "code",
   "source": [
    "for i in range(5):\n",
    "    q.put(i)"
   ],
   "id": "9d37079a4bf9d064",
   "outputs": [],
   "execution_count": 26
  },
  {
   "metadata": {
    "ExecuteTime": {
     "end_time": "2025-05-01T16:46:41.577361Z",
     "start_time": "2025-05-01T16:46:41.568317Z"
    }
   },
   "cell_type": "code",
   "source": "q.qsize()",
   "id": "7967f7af1a1c831",
   "outputs": [
    {
     "data": {
      "text/plain": [
       "5"
      ]
     },
     "execution_count": 22,
     "metadata": {},
     "output_type": "execute_result"
    }
   ],
   "execution_count": 22
  },
  {
   "metadata": {
    "ExecuteTime": {
     "end_time": "2025-05-01T16:46:47.413267Z",
     "start_time": "2025-05-01T16:46:47.406246Z"
    }
   },
   "cell_type": "code",
   "source": [
    "while not q.empty():\n",
    "    print(f\"getting {q.get()} the queue size is {q.qsize()}\")"
   ],
   "id": "e555adfd83bd5814",
   "outputs": [
    {
     "name": "stdout",
     "output_type": "stream",
     "text": [
      "getting 0 the queue size is 14\n",
      "getting 1 the queue size is 13\n",
      "getting 2 the queue size is 12\n",
      "getting 3 the queue size is 11\n",
      "getting 4 the queue size is 10\n",
      "getting 0 the queue size is 9\n",
      "getting 1 the queue size is 8\n",
      "getting 2 the queue size is 7\n",
      "getting 3 the queue size is 6\n",
      "getting 4 the queue size is 5\n",
      "getting 0 the queue size is 4\n",
      "getting 1 the queue size is 3\n",
      "getting 2 the queue size is 2\n",
      "getting 3 the queue size is 1\n",
      "getting 4 the queue size is 0\n"
     ]
    }
   ],
   "execution_count": 27
  },
  {
   "metadata": {
    "ExecuteTime": {
     "end_time": "2025-05-01T16:47:12.180868Z",
     "start_time": "2025-05-01T16:47:12.176713Z"
    }
   },
   "cell_type": "code",
   "source": "lifo = queue.LifoQueue()",
   "id": "f7c84696ffb90b0a",
   "outputs": [],
   "execution_count": 28
  },
  {
   "metadata": {
    "ExecuteTime": {
     "end_time": "2025-05-01T16:47:24.590269Z",
     "start_time": "2025-05-01T16:47:24.578647Z"
    }
   },
   "cell_type": "code",
   "source": [
    "for i in range(11,16):\n",
    "    lifo.put(i)"
   ],
   "id": "5821565afb4e4ad3",
   "outputs": [],
   "execution_count": 29
  },
  {
   "metadata": {
    "ExecuteTime": {
     "end_time": "2025-05-01T16:47:32.237177Z",
     "start_time": "2025-05-01T16:47:32.226727Z"
    }
   },
   "cell_type": "code",
   "source": "lifo.qsize()",
   "id": "5189e73f21a14cda",
   "outputs": [
    {
     "data": {
      "text/plain": [
       "5"
      ]
     },
     "execution_count": 30,
     "metadata": {},
     "output_type": "execute_result"
    }
   ],
   "execution_count": 30
  },
  {
   "metadata": {
    "ExecuteTime": {
     "end_time": "2025-05-01T16:47:56.623990Z",
     "start_time": "2025-05-01T16:47:56.619481Z"
    }
   },
   "cell_type": "code",
   "source": [
    "while not lifo.empty():\n",
    "    print(f\"getting {lifo.get()} the queue size is {lifo.qsize()}\")"
   ],
   "id": "70ed3289218bc067",
   "outputs": [
    {
     "name": "stdout",
     "output_type": "stream",
     "text": [
      "getting 15 the queue size is 4\n",
      "getting 14 the queue size is 3\n",
      "getting 13 the queue size is 2\n",
      "getting 12 the queue size is 1\n",
      "getting 11 the queue size is 0\n"
     ]
    }
   ],
   "execution_count": 31
  },
  {
   "metadata": {
    "ExecuteTime": {
     "end_time": "2025-05-01T16:48:43.173820Z",
     "start_time": "2025-05-01T16:48:43.162244Z"
    }
   },
   "cell_type": "code",
   "source": "priority_queue = queue.PriorityQueue()",
   "id": "fc9866490bd5d3c9",
   "outputs": [],
   "execution_count": 32
  },
  {
   "metadata": {
    "ExecuteTime": {
     "end_time": "2025-05-01T16:51:14.941245Z",
     "start_time": "2025-05-01T16:51:14.929993Z"
    }
   },
   "cell_type": "code",
   "source": [
    "priority_queue.put((1, \"taks priority 1\"))\n",
    "priority_queue.put((3, \"taks priority 3\"))\n",
    "priority_queue.put((2, \"taks priority 2\"))\n",
    "priority_queue.put((2, \"taks priority 2 again\"))"
   ],
   "id": "9502a2d07f268b6d",
   "outputs": [],
   "execution_count": 35
  },
  {
   "metadata": {
    "ExecuteTime": {
     "end_time": "2025-05-01T16:51:16.460925Z",
     "start_time": "2025-05-01T16:51:16.456088Z"
    }
   },
   "cell_type": "code",
   "source": [
    "while not priority_queue.empty():\n",
    "    print(f\"getting {priority_queue.get()} the queue size is {priority_queue.qsize()}\")"
   ],
   "id": "a70a56875de72400",
   "outputs": [
    {
     "name": "stdout",
     "output_type": "stream",
     "text": [
      "getting (1, 'taks priority 1') the queue size is 3\n",
      "getting (2, 'taks priority 2') the queue size is 2\n",
      "getting (2, 'taks priority 2 again') the queue size is 1\n",
      "getting (3, 'taks priority 3') the queue size is 0\n"
     ]
    }
   ],
   "execution_count": 36
  },
  {
   "metadata": {},
   "cell_type": "code",
   "outputs": [],
   "execution_count": null,
   "source": "",
   "id": "75371d3e266e884d"
  }
 ],
 "metadata": {
  "kernelspec": {
   "display_name": "Python 3",
   "language": "python",
   "name": "python3"
  },
  "language_info": {
   "codemirror_mode": {
    "name": "ipython",
    "version": 2
   },
   "file_extension": ".py",
   "mimetype": "text/x-python",
   "name": "python",
   "nbconvert_exporter": "python",
   "pygments_lexer": "ipython2",
   "version": "2.7.6"
  }
 },
 "nbformat": 4,
 "nbformat_minor": 5
}
