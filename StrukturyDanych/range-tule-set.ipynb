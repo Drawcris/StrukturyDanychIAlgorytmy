{
 "cells": [
  {
   "metadata": {
    "ExecuteTime": {
     "end_time": "2025-05-01T15:18:35.484569Z",
     "start_time": "2025-05-01T15:18:35.470161Z"
    }
   },
   "cell_type": "code",
   "source": "print(list(range(1,10)))",
   "id": "6c742b2c894e5b4d",
   "outputs": [
    {
     "name": "stdout",
     "output_type": "stream",
     "text": [
      "[1, 2, 3, 4, 5, 6, 7, 8, 9]\n"
     ]
    }
   ],
   "execution_count": 3
  },
  {
   "metadata": {
    "ExecuteTime": {
     "end_time": "2025-05-01T15:19:43.903796Z",
     "start_time": "2025-05-01T15:19:43.898721Z"
    }
   },
   "cell_type": "code",
   "source": "print(list(range(10,0,-2)))",
   "id": "c71e5e30edf36d97",
   "outputs": [
    {
     "name": "stdout",
     "output_type": "stream",
     "text": [
      "[10, 8, 6, 4, 2]\n"
     ]
    }
   ],
   "execution_count": 4
  },
  {
   "metadata": {
    "ExecuteTime": {
     "end_time": "2025-05-01T15:25:27.032109Z",
     "start_time": "2025-05-01T15:25:27.027199Z"
    }
   },
   "cell_type": "code",
   "source": [
    "t1 = (1,2,3,'a','b','c')\n",
    "t1"
   ],
   "id": "5135196040e62e5c",
   "outputs": [
    {
     "data": {
      "text/plain": [
       "(1, 2, 3, 'a', 'b', 'c')"
      ]
     },
     "execution_count": 8,
     "metadata": {},
     "output_type": "execute_result"
    }
   ],
   "execution_count": 8
  },
  {
   "metadata": {
    "ExecuteTime": {
     "end_time": "2025-05-01T15:26:05.932857Z",
     "start_time": "2025-05-01T15:26:05.926008Z"
    }
   },
   "cell_type": "code",
   "source": "(*t1, 'd')",
   "id": "57ae2f7dbdf05d79",
   "outputs": [
    {
     "data": {
      "text/plain": [
       "(1, 2, 3, 'a', 'b', 'c', 'd')"
      ]
     },
     "execution_count": 11,
     "metadata": {},
     "output_type": "execute_result"
    }
   ],
   "execution_count": 11
  },
  {
   "metadata": {
    "ExecuteTime": {
     "end_time": "2025-05-01T15:28:29.166368Z",
     "start_time": "2025-05-01T15:28:29.157819Z"
    }
   },
   "cell_type": "code",
   "source": [
    "healthy = {'milk', 'fruit','vegetables'}\n",
    "drinks = {'beer','milk','tea'}"
   ],
   "id": "622b7171c6236a78",
   "outputs": [],
   "execution_count": 12
  },
  {
   "metadata": {
    "ExecuteTime": {
     "end_time": "2025-05-01T15:29:10.863136Z",
     "start_time": "2025-05-01T15:29:10.846461Z"
    }
   },
   "cell_type": "code",
   "source": "healthy | drinks",
   "id": "3e22b63c9c2c43a9",
   "outputs": [
    {
     "data": {
      "text/plain": [
       "{'beer', 'fruit', 'milk', 'tea', 'vegetables'}"
      ]
     },
     "execution_count": 15,
     "metadata": {},
     "output_type": "execute_result"
    }
   ],
   "execution_count": 15
  },
  {
   "metadata": {
    "ExecuteTime": {
     "end_time": "2025-05-01T15:29:20.596211Z",
     "start_time": "2025-05-01T15:29:20.591207Z"
    }
   },
   "cell_type": "code",
   "source": "healthy & drinks",
   "id": "94b91e48fd5201df",
   "outputs": [
    {
     "data": {
      "text/plain": [
       "{'milk'}"
      ]
     },
     "execution_count": 16,
     "metadata": {},
     "output_type": "execute_result"
    }
   ],
   "execution_count": 16
  },
  {
   "metadata": {
    "ExecuteTime": {
     "end_time": "2025-05-01T15:30:34.592453Z",
     "start_time": "2025-05-01T15:30:34.586420Z"
    }
   },
   "cell_type": "code",
   "source": [
    "pricelist = {\n",
    "    'milk': 2,\n",
    "    'bread': 4,\n",
    "    'butter': 5\n",
    "}"
   ],
   "id": "c3e57ff4730e611e",
   "outputs": [],
   "execution_count": 17
  },
  {
   "metadata": {
    "ExecuteTime": {
     "end_time": "2025-05-01T15:30:39.171820Z",
     "start_time": "2025-05-01T15:30:39.165783Z"
    }
   },
   "cell_type": "code",
   "source": "",
   "id": "d35c6f2b342cb1ca",
   "outputs": [
    {
     "data": {
      "text/plain": [
       "{'milk': 2, 'bread': 4, 'butter': 5}"
      ]
     },
     "execution_count": 18,
     "metadata": {},
     "output_type": "execute_result"
    }
   ],
   "execution_count": 18
  }
 ],
 "metadata": {
  "kernelspec": {
   "display_name": "Python 3",
   "language": "python",
   "name": "python3"
  },
  "language_info": {
   "codemirror_mode": {
    "name": "ipython",
    "version": 2
   },
   "file_extension": ".py",
   "mimetype": "text/x-python",
   "name": "python",
   "nbconvert_exporter": "python",
   "pygments_lexer": "ipython2",
   "version": "2.7.6"
  }
 },
 "nbformat": 4,
 "nbformat_minor": 5
}
