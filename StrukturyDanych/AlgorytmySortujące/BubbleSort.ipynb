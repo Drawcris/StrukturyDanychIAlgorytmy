{
 "cells": [
  {
   "cell_type": "code",
   "id": "initial_id",
   "metadata": {
    "collapsed": true,
    "ExecuteTime": {
     "end_time": "2025-05-07T17:25:04.908747Z",
     "start_time": "2025-05-07T17:25:04.904748Z"
    }
   },
   "source": "list_of_numbers = [9,2,5,1,4,3,8,7,6]",
   "outputs": [],
   "execution_count": 11
  },
  {
   "metadata": {
    "ExecuteTime": {
     "end_time": "2025-05-07T17:16:57.326262Z",
     "start_time": "2025-05-07T17:16:57.322043Z"
    }
   },
   "cell_type": "code",
   "source": [
    "def bubble_sort(arr):\n",
    "    is_change = True\n",
    "    while is_change:\n",
    "        is_change = False\n",
    "        for i in range(len(arr) - 1):\n",
    "            if arr[i] > arr[i + 1]:\n",
    "                arr[i], arr[i + 1] = arr[i + 1], arr[i]\n",
    "                is_change = True"
   ],
   "id": "fa108dce71bbe19d",
   "outputs": [],
   "execution_count": 2
  },
  {
   "metadata": {
    "ExecuteTime": {
     "end_time": "2025-05-07T17:22:15.613704Z",
     "start_time": "2025-05-07T17:22:15.610728Z"
    }
   },
   "cell_type": "code",
   "source": "bubble_sort(list_of_numbers)",
   "id": "198f9c342eabe0ec",
   "outputs": [],
   "execution_count": 9
  },
  {
   "metadata": {
    "ExecuteTime": {
     "end_time": "2025-05-07T17:25:07.182615Z",
     "start_time": "2025-05-07T17:25:07.175478Z"
    }
   },
   "cell_type": "code",
   "source": "list_of_numbers",
   "id": "5e327d19403bc009",
   "outputs": [
    {
     "data": {
      "text/plain": [
       "[9, 2, 5, 1, 4, 3, 8, 7, 6]"
      ]
     },
     "execution_count": 12,
     "metadata": {},
     "output_type": "execute_result"
    }
   ],
   "execution_count": 12
  },
  {
   "metadata": {
    "ExecuteTime": {
     "end_time": "2025-05-07T17:25:10.525445Z",
     "start_time": "2025-05-07T17:25:10.514764Z"
    }
   },
   "cell_type": "code",
   "source": [
    "def bubble_sort2(arr):\n",
    "\n",
    "    max_index = len(arr) - 1\n",
    "\n",
    "    for max_not_sorted_index in range(max_index, 0, -1):\n",
    "        is_change = False\n",
    "        for i in range(max_not_sorted_index):\n",
    "            if arr[i] > arr[i + 1]:\n",
    "                arr[i], arr[i + 1] = arr[i + 1], arr[i]\n",
    "                is_change = True\n",
    "\n",
    "        if not is_change:\n",
    "            break"
   ],
   "id": "e4129dee5fb17d7a",
   "outputs": [],
   "execution_count": 13
  },
  {
   "metadata": {
    "ExecuteTime": {
     "end_time": "2025-05-07T17:25:17.669143Z",
     "start_time": "2025-05-07T17:25:17.665878Z"
    }
   },
   "cell_type": "code",
   "source": "bubble_sort2(list_of_numbers)",
   "id": "108d7cf40c7e0d46",
   "outputs": [],
   "execution_count": 14
  },
  {
   "metadata": {
    "ExecuteTime": {
     "end_time": "2025-05-07T17:25:20.232928Z",
     "start_time": "2025-05-07T17:25:20.228414Z"
    }
   },
   "cell_type": "code",
   "source": "list_of_numbers",
   "id": "6920f7d58918f345",
   "outputs": [
    {
     "data": {
      "text/plain": [
       "[1, 2, 3, 4, 5, 6, 7, 8, 9]"
      ]
     },
     "execution_count": 15,
     "metadata": {},
     "output_type": "execute_result"
    }
   ],
   "execution_count": 15
  },
  {
   "metadata": {},
   "cell_type": "code",
   "outputs": [],
   "execution_count": null,
   "source": "",
   "id": "3450ffa5fed91101"
  }
 ],
 "metadata": {
  "kernelspec": {
   "display_name": "Python 3",
   "language": "python",
   "name": "python3"
  },
  "language_info": {
   "codemirror_mode": {
    "name": "ipython",
    "version": 2
   },
   "file_extension": ".py",
   "mimetype": "text/x-python",
   "name": "python",
   "nbconvert_exporter": "python",
   "pygments_lexer": "ipython2",
   "version": "2.7.6"
  }
 },
 "nbformat": 4,
 "nbformat_minor": 5
}
