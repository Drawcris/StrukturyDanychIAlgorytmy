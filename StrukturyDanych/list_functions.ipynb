{
 "cells": [
  {
   "cell_type": "code",
   "id": "initial_id",
   "metadata": {
    "collapsed": true,
    "ExecuteTime": {
     "end_time": "2025-04-29T14:58:48.197285Z",
     "start_time": "2025-04-29T14:58:48.181539Z"
    }
   },
   "source": [
    "l= [1,2,3]\n",
    "l"
   ],
   "outputs": [
    {
     "data": {
      "text/plain": [
       "[1, 2, 3]"
      ]
     },
     "execution_count": 9,
     "metadata": {},
     "output_type": "execute_result"
    }
   ],
   "execution_count": 9
  },
  {
   "metadata": {
    "ExecuteTime": {
     "end_time": "2025-04-29T14:58:50.561414Z",
     "start_time": "2025-04-29T14:58:50.542924Z"
    }
   },
   "cell_type": "code",
   "source": [
    "i = l.__iter__()\n",
    "i"
   ],
   "id": "9dac06f9ee44c491",
   "outputs": [
    {
     "data": {
      "text/plain": [
       "<list_iterator at 0x1d67a4bbb20>"
      ]
     },
     "execution_count": 10,
     "metadata": {},
     "output_type": "execute_result"
    }
   ],
   "execution_count": 10
  },
  {
   "metadata": {
    "ExecuteTime": {
     "end_time": "2025-04-29T14:58:52.361191Z",
     "start_time": "2025-04-29T14:58:52.345216Z"
    }
   },
   "cell_type": "code",
   "source": [
    "print(i.__next__())\n",
    "print(i.__next__())\n",
    "print(i.__next__())\n"
   ],
   "id": "72f05c6a3fd7f474",
   "outputs": [
    {
     "name": "stdout",
     "output_type": "stream",
     "text": [
      "1\n",
      "2\n",
      "3\n"
     ]
    }
   ],
   "execution_count": 11
  },
  {
   "metadata": {
    "ExecuteTime": {
     "end_time": "2025-04-29T14:59:15.485001Z",
     "start_time": "2025-04-29T14:59:15.470257Z"
    }
   },
   "cell_type": "code",
   "source": [
    "for n in l:\n",
    "    print(n)"
   ],
   "id": "5904790fd6c8bc3d",
   "outputs": [
    {
     "name": "stdout",
     "output_type": "stream",
     "text": [
      "1\n",
      "2\n",
      "3\n"
     ]
    }
   ],
   "execution_count": 12
  },
  {
   "metadata": {
    "ExecuteTime": {
     "end_time": "2025-04-29T15:01:07.784842Z",
     "start_time": "2025-04-29T15:01:07.780008Z"
    }
   },
   "cell_type": "code",
   "source": "list(map(lambda x: x.upper(), ['cat', 'dog', 'cow']))",
   "id": "b2e23678b690ee1e",
   "outputs": [
    {
     "data": {
      "text/plain": [
       "['CAT', 'DOG', 'COW']"
      ]
     },
     "execution_count": 14,
     "metadata": {},
     "output_type": "execute_result"
    }
   ],
   "execution_count": 14
  },
  {
   "metadata": {
    "ExecuteTime": {
     "end_time": "2025-04-29T15:02:47.707342Z",
     "start_time": "2025-04-29T15:02:47.700966Z"
    }
   },
   "cell_type": "code",
   "source": "list(filter(lambda x: 'o' in x, ['cat', 'dog', 'cow']))",
   "id": "e41fae825e0bfcaf",
   "outputs": [
    {
     "data": {
      "text/plain": [
       "['dog', 'cow']"
      ]
     },
     "execution_count": 15,
     "metadata": {},
     "output_type": "execute_result"
    }
   ],
   "execution_count": 15
  },
  {
   "metadata": {
    "ExecuteTime": {
     "end_time": "2025-04-29T15:03:45.003439Z",
     "start_time": "2025-04-29T15:03:44.991685Z"
    }
   },
   "cell_type": "code",
   "source": "from functools import reduce",
   "id": "d51b2d27115daecb",
   "outputs": [],
   "execution_count": 16
  },
  {
   "metadata": {
    "ExecuteTime": {
     "end_time": "2025-04-29T15:04:03.325612Z",
     "start_time": "2025-04-29T15:04:03.313948Z"
    }
   },
   "cell_type": "code",
   "source": "numbers = [11,22,33,1]",
   "id": "7fc3cc5c218e162d",
   "outputs": [],
   "execution_count": 17
  },
  {
   "metadata": {
    "ExecuteTime": {
     "end_time": "2025-04-29T15:05:19.092227Z",
     "start_time": "2025-04-29T15:05:19.073085Z"
    }
   },
   "cell_type": "code",
   "source": "reduce(lambda x,y: x if x > y else y, numbers)",
   "id": "4f2a4ce700791415",
   "outputs": [
    {
     "data": {
      "text/plain": [
       "33"
      ]
     },
     "execution_count": 18,
     "metadata": {},
     "output_type": "execute_result"
    }
   ],
   "execution_count": 18
  },
  {
   "metadata": {
    "ExecuteTime": {
     "end_time": "2025-04-29T15:06:53.883249Z",
     "start_time": "2025-04-29T15:06:53.866554Z"
    }
   },
   "cell_type": "code",
   "source": [
    "ids = ['id1', 'id2', 'id30', 'id3', 'id22', 'id100']\n",
    "ids"
   ],
   "id": "4612cc133877827e",
   "outputs": [
    {
     "data": {
      "text/plain": [
       "['id1', 'id2', 'id30', 'id3', 'id22', 'id100']"
      ]
     },
     "execution_count": 20,
     "metadata": {},
     "output_type": "execute_result"
    }
   ],
   "execution_count": 20
  },
  {
   "metadata": {
    "ExecuteTime": {
     "end_time": "2025-04-29T15:07:19.570676Z",
     "start_time": "2025-04-29T15:07:19.565679Z"
    }
   },
   "cell_type": "code",
   "source": "sorted(ids)",
   "id": "f55236919df7d388",
   "outputs": [
    {
     "data": {
      "text/plain": [
       "['id1', 'id100', 'id2', 'id22', 'id3', 'id30']"
      ]
     },
     "execution_count": 21,
     "metadata": {},
     "output_type": "execute_result"
    }
   ],
   "execution_count": 21
  },
  {
   "metadata": {
    "ExecuteTime": {
     "end_time": "2025-04-29T15:08:22.129632Z",
     "start_time": "2025-04-29T15:08:22.121596Z"
    }
   },
   "cell_type": "code",
   "source": "sorted(ids, key=lambda x: int(x[2:]))",
   "id": "3d4f9515619acdb",
   "outputs": [
    {
     "data": {
      "text/plain": [
       "['id1', 'id2', 'id3', 'id22', 'id30', 'id100']"
      ]
     },
     "execution_count": 22,
     "metadata": {},
     "output_type": "execute_result"
    }
   ],
   "execution_count": 22
  },
  {
   "metadata": {
    "ExecuteTime": {
     "end_time": "2025-04-29T15:10:54.609833Z",
     "start_time": "2025-04-29T15:10:54.599268Z"
    }
   },
   "cell_type": "code",
   "source": "from heapq import nsmallest,nlargest",
   "id": "3048e07101f8097",
   "outputs": [],
   "execution_count": 26
  },
  {
   "metadata": {
    "ExecuteTime": {
     "end_time": "2025-04-29T15:11:20.933215Z",
     "start_time": "2025-04-29T15:11:20.914671Z"
    }
   },
   "cell_type": "code",
   "source": "nlargest(3,ids,key=lambda x: int(x[2:]))",
   "id": "9e66d67092ead824",
   "outputs": [
    {
     "data": {
      "text/plain": [
       "['id100', 'id30', 'id22']"
      ]
     },
     "execution_count": 27,
     "metadata": {},
     "output_type": "execute_result"
    }
   ],
   "execution_count": 27
  },
  {
   "metadata": {
    "ExecuteTime": {
     "end_time": "2025-04-29T15:11:37.489193Z",
     "start_time": "2025-04-29T15:11:37.465430Z"
    }
   },
   "cell_type": "code",
   "source": "nsmallest(3,ids,key=lambda x: int(x[2:]))",
   "id": "1741b92a4554372b",
   "outputs": [
    {
     "data": {
      "text/plain": [
       "['id1', 'id2', 'id3']"
      ]
     },
     "execution_count": 28,
     "metadata": {},
     "output_type": "execute_result"
    }
   ],
   "execution_count": 28
  },
  {
   "metadata": {},
   "cell_type": "code",
   "outputs": [],
   "execution_count": null,
   "source": "",
   "id": "516016a6b615f4eb"
  }
 ],
 "metadata": {
  "kernelspec": {
   "display_name": "Python 3",
   "language": "python",
   "name": "python3"
  },
  "language_info": {
   "codemirror_mode": {
    "name": "ipython",
    "version": 2
   },
   "file_extension": ".py",
   "mimetype": "text/x-python",
   "name": "python",
   "nbconvert_exporter": "python",
   "pygments_lexer": "ipython2",
   "version": "2.7.6"
  }
 },
 "nbformat": 4,
 "nbformat_minor": 5
}
