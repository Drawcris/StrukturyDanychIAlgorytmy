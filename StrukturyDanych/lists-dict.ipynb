{
 "cells": [
  {
   "cell_type": "code",
   "id": "initial_id",
   "metadata": {
    "collapsed": true,
    "ExecuteTime": {
     "end_time": "2025-04-29T13:49:12.847335Z",
     "start_time": "2025-04-29T13:49:12.843895Z"
    }
   },
   "source": [
    "ben = {\n",
    "    'name': 'Ben',\n",
    "    'age': 22,\n",
    "    'email': 'bem@email.com',\n",
    "}\n",
    "jan = {\n",
    "    'name': 'Jan',\n",
    "    'age': 22,\n",
    "    'email': 'jan@wp.pl',\n",
    "}\n",
    "ann = {\n",
    "    'name': 'Ann',\n",
    "    'age': 22,\n",
    "    'email': 'ann@wp.pl',\n",
    "}"
   ],
   "outputs": [],
   "execution_count": 2
  },
  {
   "metadata": {
    "ExecuteTime": {
     "end_time": "2025-04-29T13:49:17.143012Z",
     "start_time": "2025-04-29T13:49:17.134174Z"
    }
   },
   "cell_type": "code",
   "source": "ben",
   "id": "98c623c426432ed",
   "outputs": [
    {
     "data": {
      "text/plain": [
       "{'name': 'Ben', 'age': 22, 'email': 'bem@email.com'}"
      ]
     },
     "execution_count": 3,
     "metadata": {},
     "output_type": "execute_result"
    }
   ],
   "execution_count": 3
  },
  {
   "metadata": {
    "ExecuteTime": {
     "end_time": "2025-04-29T13:49:59.399726Z",
     "start_time": "2025-04-29T13:49:59.395725Z"
    }
   },
   "cell_type": "code",
   "source": "contact_list = [ben, jan, ann]",
   "id": "4e5f20e455f28c2a",
   "outputs": [],
   "execution_count": 4
  },
  {
   "metadata": {
    "ExecuteTime": {
     "end_time": "2025-04-29T13:50:01.685061Z",
     "start_time": "2025-04-29T13:50:01.680463Z"
    }
   },
   "cell_type": "code",
   "source": "contact_list",
   "id": "e4bbd1dbfa7fe8f2",
   "outputs": [
    {
     "data": {
      "text/plain": [
       "[{'name': 'Ben', 'age': 22, 'email': 'bem@email.com'},\n",
       " {'name': 'Jan', 'age': 22, 'email': 'jan@wp.pl'},\n",
       " {'name': 'Ann', 'age': 22, 'email': 'ann@wp.pl'}]"
      ]
     },
     "execution_count": 5,
     "metadata": {},
     "output_type": "execute_result"
    }
   ],
   "execution_count": 5
  },
  {
   "metadata": {
    "ExecuteTime": {
     "end_time": "2025-04-29T13:52:37.042639Z",
     "start_time": "2025-04-29T13:52:37.028897Z"
    }
   },
   "cell_type": "code",
   "source": [
    "all_emails = ''\n",
    "for contact in contact_list:\n",
    "    all_emails += contact['email'] + '\\n'\n",
    "\n",
    "print(all_emails)"
   ],
   "id": "5a91a43aed8af49a",
   "outputs": [
    {
     "name": "stdout",
     "output_type": "stream",
     "text": [
      "bem@email.com\n",
      "jan@wp.pl\n",
      "ann@wp.pl\n",
      "\n"
     ]
    }
   ],
   "execution_count": 7
  },
  {
   "metadata": {
    "ExecuteTime": {
     "end_time": "2025-04-29T13:56:20.256365Z",
     "start_time": "2025-04-29T13:56:20.251860Z"
    }
   },
   "cell_type": "code",
   "source": [
    "contact_dict = {}\n",
    "for c in contact_list:\n",
    "    contact_dict[c['name']] = c"
   ],
   "id": "fa9fd452fbf7d025",
   "outputs": [],
   "execution_count": 9
  },
  {
   "metadata": {
    "ExecuteTime": {
     "end_time": "2025-04-29T13:59:19.150019Z",
     "start_time": "2025-04-29T13:59:19.145012Z"
    }
   },
   "cell_type": "code",
   "source": "contact_dict",
   "id": "b5c862c8e6dc41c7",
   "outputs": [
    {
     "data": {
      "text/plain": [
       "{'Ben': {'name': 'Ben', 'age': 22, 'email': 'bem@email.com'},\n",
       " 'Jan': {'name': 'Jan', 'age': 22, 'email': 'jan@wp.pl'},\n",
       " 'Ann': {'name': 'Ann', 'age': 22, 'email': 'ann@wp.pl'}}"
      ]
     },
     "execution_count": 13,
     "metadata": {},
     "output_type": "execute_result"
    }
   ],
   "execution_count": 13
  },
  {
   "metadata": {},
   "cell_type": "code",
   "outputs": [],
   "execution_count": null,
   "source": "",
   "id": "4aafa9fccf6d6672"
  }
 ],
 "metadata": {
  "kernelspec": {
   "display_name": "Python 3",
   "language": "python",
   "name": "python3"
  },
  "language_info": {
   "codemirror_mode": {
    "name": "ipython",
    "version": 2
   },
   "file_extension": ".py",
   "mimetype": "text/x-python",
   "name": "python",
   "nbconvert_exporter": "python",
   "pygments_lexer": "ipython2",
   "version": "2.7.6"
  }
 },
 "nbformat": 4,
 "nbformat_minor": 5
}
