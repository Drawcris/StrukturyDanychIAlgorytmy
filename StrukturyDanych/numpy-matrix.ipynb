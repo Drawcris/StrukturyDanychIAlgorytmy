{
 "cells": [
  {
   "cell_type": "code",
   "id": "initial_id",
   "metadata": {
    "collapsed": true,
    "ExecuteTime": {
     "end_time": "2025-05-05T11:47:46.161977Z",
     "start_time": "2025-05-05T11:47:45.927462Z"
    }
   },
   "source": "import numpy as np",
   "outputs": [],
   "execution_count": 4
  },
  {
   "metadata": {
    "ExecuteTime": {
     "end_time": "2025-05-05T11:45:48.381625Z",
     "start_time": "2025-05-05T11:45:48.376102Z"
    }
   },
   "cell_type": "code",
   "source": [
    "ll = [\n",
    "    [1,2,3],[4,5,6],[7,8,9]\n",
    "]"
   ],
   "id": "fe8ca4491d954827",
   "outputs": [],
   "execution_count": 1
  },
  {
   "metadata": {
    "ExecuteTime": {
     "end_time": "2025-05-05T11:47:48.147414Z",
     "start_time": "2025-05-05T11:47:48.142906Z"
    }
   },
   "cell_type": "code",
   "source": "m3x3 = np.array(ll)",
   "id": "a68788ec0fd952aa",
   "outputs": [],
   "execution_count": 5
  },
  {
   "metadata": {
    "ExecuteTime": {
     "end_time": "2025-05-05T11:48:38.335723Z",
     "start_time": "2025-05-05T11:48:38.329217Z"
    }
   },
   "cell_type": "code",
   "source": "type(m3x3)",
   "id": "714dcbeb895bf604",
   "outputs": [
    {
     "data": {
      "text/plain": [
       "numpy.ndarray"
      ]
     },
     "execution_count": 7,
     "metadata": {},
     "output_type": "execute_result"
    }
   ],
   "execution_count": 7
  },
  {
   "metadata": {
    "ExecuteTime": {
     "end_time": "2025-05-05T11:49:01.655456Z",
     "start_time": "2025-05-05T11:49:01.648942Z"
    }
   },
   "cell_type": "code",
   "source": "m3x3",
   "id": "a43d6d3620244b97",
   "outputs": [
    {
     "data": {
      "text/plain": [
       "array([[1, 2, 3],\n",
       "       [4, 5, 6],\n",
       "       [7, 8, 9]])"
      ]
     },
     "execution_count": 8,
     "metadata": {},
     "output_type": "execute_result"
    }
   ],
   "execution_count": 8
  },
  {
   "metadata": {
    "ExecuteTime": {
     "end_time": "2025-05-05T11:49:25.924659Z",
     "start_time": "2025-05-05T11:49:25.919662Z"
    }
   },
   "cell_type": "code",
   "source": "m3x3.transpose()",
   "id": "aab9651ea8084bf2",
   "outputs": [
    {
     "data": {
      "text/plain": [
       "array([[1, 4, 7],\n",
       "       [2, 5, 8],\n",
       "       [3, 6, 9]])"
      ]
     },
     "execution_count": 9,
     "metadata": {},
     "output_type": "execute_result"
    }
   ],
   "execution_count": 9
  },
  {
   "metadata": {
    "ExecuteTime": {
     "end_time": "2025-05-05T11:50:41.757468Z",
     "start_time": "2025-05-05T11:50:41.745878Z"
    }
   },
   "cell_type": "code",
   "source": "m3x1 = np.array([[10,20,0]])",
   "id": "ca57fd44d01048c8",
   "outputs": [],
   "execution_count": 10
  },
  {
   "metadata": {
    "ExecuteTime": {
     "end_time": "2025-05-05T11:50:49.470704Z",
     "start_time": "2025-05-05T11:50:49.452800Z"
    }
   },
   "cell_type": "code",
   "source": "m3x3 * m3x1",
   "id": "c2f55ef5da0b3875",
   "outputs": [
    {
     "data": {
      "text/plain": [
       "array([[ 10,  40,   0],\n",
       "       [ 40, 100,   0],\n",
       "       [ 70, 160,   0]])"
      ]
     },
     "execution_count": 11,
     "metadata": {},
     "output_type": "execute_result"
    }
   ],
   "execution_count": 11
  },
  {
   "metadata": {
    "ExecuteTime": {
     "end_time": "2025-05-05T11:51:58.595071Z",
     "start_time": "2025-05-05T11:51:58.574395Z"
    }
   },
   "cell_type": "code",
   "source": "np.sin(m3x3)",
   "id": "ad576d637ea819cd",
   "outputs": [
    {
     "data": {
      "text/plain": [
       "array([[ 0.84147098,  0.90929743,  0.14112001],\n",
       "       [-0.7568025 , -0.95892427, -0.2794155 ],\n",
       "       [ 0.6569866 ,  0.98935825,  0.41211849]])"
      ]
     },
     "execution_count": 12,
     "metadata": {},
     "output_type": "execute_result"
    }
   ],
   "execution_count": 12
  },
  {
   "metadata": {
    "ExecuteTime": {
     "end_time": "2025-05-05T11:52:13.056120Z",
     "start_time": "2025-05-05T11:52:13.052214Z"
    }
   },
   "cell_type": "code",
   "source": "m3x3",
   "id": "42d832a41555b8be",
   "outputs": [
    {
     "data": {
      "text/plain": [
       "array([[1, 2, 3],\n",
       "       [4, 5, 6],\n",
       "       [7, 8, 9]])"
      ]
     },
     "execution_count": 13,
     "metadata": {},
     "output_type": "execute_result"
    }
   ],
   "execution_count": 13
  },
  {
   "metadata": {
    "ExecuteTime": {
     "end_time": "2025-05-05T11:55:13.861144Z",
     "start_time": "2025-05-05T11:55:13.856174Z"
    }
   },
   "cell_type": "code",
   "source": "m3x3[1:,:2]",
   "id": "422a78850b6a6040",
   "outputs": [
    {
     "data": {
      "text/plain": [
       "array([[4, 5],\n",
       "       [7, 8]])"
      ]
     },
     "execution_count": 22,
     "metadata": {},
     "output_type": "execute_result"
    }
   ],
   "execution_count": 22
  },
  {
   "metadata": {
    "ExecuteTime": {
     "end_time": "2025-05-05T12:00:00.715124Z",
     "start_time": "2025-05-05T12:00:00.709889Z"
    }
   },
   "cell_type": "code",
   "source": [
    "list_1 = [\n",
    "    [10,20,30],\n",
    "    [40,50,60],\n",
    "    [70,80,90]\n",
    "]"
   ],
   "id": "dd8832620a46359",
   "outputs": [],
   "execution_count": 23
  },
  {
   "metadata": {
    "ExecuteTime": {
     "end_time": "2025-05-05T12:00:08.151676Z",
     "start_time": "2025-05-05T12:00:08.148780Z"
    }
   },
   "cell_type": "code",
   "source": "m_1 = np.array(list_1)",
   "id": "1635bcfbabc60412",
   "outputs": [],
   "execution_count": 24
  },
  {
   "metadata": {
    "ExecuteTime": {
     "end_time": "2025-05-05T12:00:32.116344Z",
     "start_time": "2025-05-05T12:00:32.112136Z"
    }
   },
   "cell_type": "code",
   "source": "m_2 = m_1 * 0.333",
   "id": "eb5b1891f9e0b10e",
   "outputs": [],
   "execution_count": 25
  },
  {
   "metadata": {
    "ExecuteTime": {
     "end_time": "2025-05-05T12:00:37.568627Z",
     "start_time": "2025-05-05T12:00:37.562306Z"
    }
   },
   "cell_type": "code",
   "source": "m_2",
   "id": "7b69cf9d0ed0820e",
   "outputs": [
    {
     "data": {
      "text/plain": [
       "array([[ 3.33,  6.66,  9.99],\n",
       "       [13.32, 16.65, 19.98],\n",
       "       [23.31, 26.64, 29.97]])"
      ]
     },
     "execution_count": 26,
     "metadata": {},
     "output_type": "execute_result"
    }
   ],
   "execution_count": 26
  },
  {
   "metadata": {
    "ExecuteTime": {
     "end_time": "2025-05-05T12:00:54.755394Z",
     "start_time": "2025-05-05T12:00:54.747994Z"
    }
   },
   "cell_type": "code",
   "source": "m_3 = m_1 + m_2",
   "id": "5ac1b7031b02fe33",
   "outputs": [],
   "execution_count": 27
  },
  {
   "metadata": {
    "ExecuteTime": {
     "end_time": "2025-05-05T12:01:01.050508Z",
     "start_time": "2025-05-05T12:01:01.035569Z"
    }
   },
   "cell_type": "code",
   "source": "m_3",
   "id": "421640c81045f82a",
   "outputs": [
    {
     "data": {
      "text/plain": [
       "array([[ 13.33,  26.66,  39.99],\n",
       "       [ 53.32,  66.65,  79.98],\n",
       "       [ 93.31, 106.64, 119.97]])"
      ]
     },
     "execution_count": 29,
     "metadata": {},
     "output_type": "execute_result"
    }
   ],
   "execution_count": 29
  },
  {
   "metadata": {},
   "cell_type": "code",
   "outputs": [],
   "execution_count": null,
   "source": "",
   "id": "b7b852623db662c2"
  }
 ],
 "metadata": {
  "kernelspec": {
   "display_name": "Python 3",
   "language": "python",
   "name": "python3"
  },
  "language_info": {
   "codemirror_mode": {
    "name": "ipython",
    "version": 2
   },
   "file_extension": ".py",
   "mimetype": "text/x-python",
   "name": "python",
   "nbconvert_exporter": "python",
   "pygments_lexer": "ipython2",
   "version": "2.7.6"
  }
 },
 "nbformat": 4,
 "nbformat_minor": 5
}
