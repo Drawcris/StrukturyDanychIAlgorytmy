{
 "cells": [
  {
   "cell_type": "code",
   "id": "initial_id",
   "metadata": {
    "collapsed": true,
    "ExecuteTime": {
     "end_time": "2025-05-01T16:11:04.908813Z",
     "start_time": "2025-05-01T16:11:04.901678Z"
    }
   },
   "source": [
    "wi1 = {\n",
    "    'name': 'Clean A',\n",
    "    'next': None,\n",
    "    'prev': None\n",
    "}\n",
    "\n",
    "wi2 = {\n",
    "    'name': 'Clean B',\n",
    "    'next': None,\n",
    "    'prev': None\n",
    "}\n",
    "\n",
    "wi3 = {\n",
    "    'name': 'Clean C',\n",
    "    'next': None,\n",
    "    'prev': None\n",
    "}"
   ],
   "outputs": [],
   "execution_count": 2
  },
  {
   "metadata": {
    "ExecuteTime": {
     "end_time": "2025-05-01T16:11:21.172800Z",
     "start_time": "2025-05-01T16:11:21.167290Z"
    }
   },
   "cell_type": "code",
   "source": [
    "def add_item_begin(my_collection, new_item):\n",
    "    new_item['prev'] = None\n",
    "    new_item['next'] = my_collection\n",
    "\n",
    "    if my_collection:\n",
    "        my_collection['prev'] = new_item\n",
    "\n",
    "    my_collection = new_item\n",
    "    return my_collection"
   ],
   "id": "84f9cd9715957641",
   "outputs": [],
   "execution_count": 3
  },
  {
   "metadata": {
    "ExecuteTime": {
     "end_time": "2025-05-01T16:11:27.927070Z",
     "start_time": "2025-05-01T16:11:27.911015Z"
    }
   },
   "cell_type": "code",
   "source": [
    "def add_item_end(my_collection, new_item):\n",
    "\n",
    "    if my_collection == None:\n",
    "        my_collection = new_item\n",
    "        my_collection['prev'] = None\n",
    "        my_collection['next'] = None\n",
    "        return my_collection\n",
    "    else:\n",
    "        item = my_collection\n",
    "        while item['next']:\n",
    "            item = item['next']\n",
    "\n",
    "        item['next'] = new_item\n",
    "        new_item['next'] = None\n",
    "        new_item['prev'] = item\n",
    "        return my_collection"
   ],
   "id": "ef79bdfc4a757078",
   "outputs": [],
   "execution_count": 4
  },
  {
   "metadata": {
    "ExecuteTime": {
     "end_time": "2025-05-01T16:12:44.747099Z",
     "start_time": "2025-05-01T16:12:44.741100Z"
    }
   },
   "cell_type": "code",
   "source": [
    "work = None\n",
    "work = add_item_end(work, wi1)\n",
    "work = add_item_end(work, wi2)\n",
    "work = add_item_end(work, wi3)"
   ],
   "id": "988857e400f79516",
   "outputs": [],
   "execution_count": 5
  },
  {
   "metadata": {
    "ExecuteTime": {
     "end_time": "2025-05-01T16:13:12.585161Z",
     "start_time": "2025-05-01T16:13:12.580930Z"
    }
   },
   "cell_type": "code",
   "source": [
    "item = work\n",
    "while item:\n",
    "    print(item['name'])\n",
    "    item = item['next']"
   ],
   "id": "f73fd09334192635",
   "outputs": [
    {
     "name": "stdout",
     "output_type": "stream",
     "text": [
      "Clean A\n",
      "Clean B\n",
      "Clean C\n"
     ]
    }
   ],
   "execution_count": 6
  },
  {
   "metadata": {},
   "cell_type": "markdown",
   "source": "FIFO\n",
   "id": "d0b75e3e404ef824"
  },
  {
   "metadata": {
    "ExecuteTime": {
     "end_time": "2025-05-01T16:16:43.907516Z",
     "start_time": "2025-05-01T16:16:43.903564Z"
    }
   },
   "cell_type": "code",
   "source": [
    "def del_item_begin(my_collection):\n",
    "\n",
    "    item = my_collection\n",
    "\n",
    "    if item:\n",
    "        my_collection = item['next']\n",
    "\n",
    "        if my_collection:\n",
    "            my_collection['prev'] = None\n",
    "\n",
    "    return my_collection, item"
   ],
   "id": "e56aae654ea578f2",
   "outputs": [],
   "execution_count": 7
  },
  {
   "metadata": {
    "ExecuteTime": {
     "end_time": "2025-05-01T16:17:11.416842Z",
     "start_time": "2025-05-01T16:17:11.412842Z"
    }
   },
   "cell_type": "code",
   "source": "work, item = del_item_begin(work)",
   "id": "21cb99c07058f104",
   "outputs": [],
   "execution_count": 8
  },
  {
   "metadata": {
    "ExecuteTime": {
     "end_time": "2025-05-01T16:20:14.586303Z",
     "start_time": "2025-05-01T16:20:14.580280Z"
    }
   },
   "cell_type": "code",
   "source": "work",
   "id": "79530ea8cc29f4f3",
   "outputs": [
    {
     "data": {
      "text/plain": [
       "{'name': 'Clean B',\n",
       " 'next': {'name': 'Clean C', 'next': None, 'prev': {...}},\n",
       " 'prev': None}"
      ]
     },
     "execution_count": 9,
     "metadata": {},
     "output_type": "execute_result"
    }
   ],
   "execution_count": 9
  },
  {
   "metadata": {
    "ExecuteTime": {
     "end_time": "2025-05-01T16:20:41.597232Z",
     "start_time": "2025-05-01T16:20:41.593898Z"
    }
   },
   "cell_type": "code",
   "source": [
    "wi4 = {\n",
    "    'name': 'Clean D',\n",
    "    'next': None,\n",
    "    'prev': None\n",
    "}"
   ],
   "id": "d852969bcfc5aa67",
   "outputs": [],
   "execution_count": 11
  },
  {
   "metadata": {
    "ExecuteTime": {
     "end_time": "2025-05-01T16:20:59.890095Z",
     "start_time": "2025-05-01T16:20:59.886092Z"
    }
   },
   "cell_type": "code",
   "source": "work = add_item_end(work, wi4)",
   "id": "ca7bd8f6011de505",
   "outputs": [],
   "execution_count": 12
  },
  {
   "metadata": {
    "ExecuteTime": {
     "end_time": "2025-05-01T16:21:08.823792Z",
     "start_time": "2025-05-01T16:21:08.820209Z"
    }
   },
   "cell_type": "code",
   "source": [
    "item = work\n",
    "while item:\n",
    "    print(item['name'])\n",
    "    item = item['next']"
   ],
   "id": "52e832422ee93162",
   "outputs": [
    {
     "name": "stdout",
     "output_type": "stream",
     "text": [
      "Clean B\n",
      "Clean C\n",
      "Clean D\n"
     ]
    }
   ],
   "execution_count": 13
  },
  {
   "metadata": {
    "ExecuteTime": {
     "end_time": "2025-05-01T16:21:32.012508Z",
     "start_time": "2025-05-01T16:21:32.008252Z"
    }
   },
   "cell_type": "code",
   "source": "work, item = del_item_begin(work)",
   "id": "7d4b873d807f8191",
   "outputs": [],
   "execution_count": 14
  },
  {
   "metadata": {},
   "cell_type": "markdown",
   "source": "LIFO\n",
   "id": "e1c0f127b964e655"
  },
  {
   "metadata": {
    "ExecuteTime": {
     "end_time": "2025-05-01T16:24:46.565007Z",
     "start_time": "2025-05-01T16:24:46.560656Z"
    }
   },
   "cell_type": "code",
   "source": [
    "item = work\n",
    "while item:\n",
    "    print(item['name'])\n",
    "    item = item['next']"
   ],
   "id": "4a51ade00d1d8574",
   "outputs": [
    {
     "name": "stdout",
     "output_type": "stream",
     "text": [
      "Clean C\n",
      "Clean D\n"
     ]
    }
   ],
   "execution_count": 16
  },
  {
   "metadata": {
    "ExecuteTime": {
     "end_time": "2025-05-01T16:24:56.782902Z",
     "start_time": "2025-05-01T16:24:56.778978Z"
    }
   },
   "cell_type": "code",
   "source": [
    "wi5 = {\n",
    "    'name': 'Clean E',\n",
    "    'next': None,\n",
    "    'prev': None\n",
    "}"
   ],
   "id": "2ccca48dc679db1",
   "outputs": [],
   "execution_count": 17
  },
  {
   "metadata": {
    "ExecuteTime": {
     "end_time": "2025-05-01T16:25:09.158367Z",
     "start_time": "2025-05-01T16:25:09.146798Z"
    }
   },
   "cell_type": "code",
   "source": "work = add_item_begin(work, wi5)",
   "id": "a133ac9cded4da7d",
   "outputs": [],
   "execution_count": 18
  },
  {
   "metadata": {
    "ExecuteTime": {
     "end_time": "2025-05-01T16:25:24.193244Z",
     "start_time": "2025-05-01T16:25:24.186879Z"
    }
   },
   "cell_type": "code",
   "source": "work, item = del_item_begin(work)\n",
   "id": "a117cb6492de1936",
   "outputs": [],
   "execution_count": 19
  },
  {
   "metadata": {
    "ExecuteTime": {
     "end_time": "2025-05-01T16:25:32.396564Z",
     "start_time": "2025-05-01T16:25:32.383006Z"
    }
   },
   "cell_type": "code",
   "source": "item['name']",
   "id": "c6763b579445d166",
   "outputs": [
    {
     "data": {
      "text/plain": [
       "'Clean E'"
      ]
     },
     "execution_count": 20,
     "metadata": {},
     "output_type": "execute_result"
    }
   ],
   "execution_count": 20
  },
  {
   "metadata": {},
   "cell_type": "code",
   "outputs": [],
   "execution_count": null,
   "source": "",
   "id": "b552f40c3a23ad1d"
  }
 ],
 "metadata": {
  "kernelspec": {
   "display_name": "Python 3",
   "language": "python",
   "name": "python3"
  },
  "language_info": {
   "codemirror_mode": {
    "name": "ipython",
    "version": 2
   },
   "file_extension": ".py",
   "mimetype": "text/x-python",
   "name": "python",
   "nbconvert_exporter": "python",
   "pygments_lexer": "ipython2",
   "version": "2.7.6"
  }
 },
 "nbformat": 4,
 "nbformat_minor": 5
}
