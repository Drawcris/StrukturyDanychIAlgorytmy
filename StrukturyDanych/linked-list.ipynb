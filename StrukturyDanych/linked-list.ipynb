{
 "cells": [
  {
   "cell_type": "code",
   "id": "initial_id",
   "metadata": {
    "collapsed": true,
    "ExecuteTime": {
     "end_time": "2025-05-01T15:47:49.173913Z",
     "start_time": "2025-05-01T15:47:49.168916Z"
    }
   },
   "source": [
    "wi1 = {\n",
    "    'name': \"A standup Cloud Team\",\n",
    "    'start_hour': 8,\n",
    "    'duration_minutes': 15,\n",
    "    'prev': None,\n",
    "    'next': None,\n",
    "}\n",
    "\n",
    "wi2 = {\n",
    "    'name': \"B Architercute Board\",\n",
    "    'start_hour': 9,\n",
    "    'duration_minutes': 60,\n",
    "    'prev': None,\n",
    "    'next': None,\n",
    "}\n",
    "\n",
    "wi3 = {\n",
    "    'name': \"C Cloud Training\",\n",
    "    'start_hour': 12,\n",
    "    'duration_minutes': 120,\n",
    "    'prev': None,\n",
    "    'next': None,\n",
    "}"
   ],
   "outputs": [],
   "execution_count": 10
  },
  {
   "metadata": {
    "ExecuteTime": {
     "end_time": "2025-05-01T15:47:51.230064Z",
     "start_time": "2025-05-01T15:47:51.220748Z"
    }
   },
   "cell_type": "code",
   "source": [
    "wi1['next'] = wi2\n",
    "wi2['prev'] = wi1\n",
    "wi2['next'] = wi3\n",
    "wi3['prev'] = wi2\n"
   ],
   "id": "b52d6ecd22c47363",
   "outputs": [],
   "execution_count": 11
  },
  {
   "metadata": {
    "ExecuteTime": {
     "end_time": "2025-05-01T15:47:53.949507Z",
     "start_time": "2025-05-01T15:47:53.945476Z"
    }
   },
   "cell_type": "code",
   "source": "work = wi1",
   "id": "2a8d7b142432c13e",
   "outputs": [],
   "execution_count": 12
  },
  {
   "metadata": {
    "ExecuteTime": {
     "end_time": "2025-05-01T15:48:00.309758Z",
     "start_time": "2025-05-01T15:48:00.302297Z"
    }
   },
   "cell_type": "code",
   "source": [
    "item = work\n",
    "while item:\n",
    "    print(item['name'])\n",
    "    item = item['next']"
   ],
   "id": "6ea0739b7d1fdc5f",
   "outputs": [
    {
     "name": "stdout",
     "output_type": "stream",
     "text": [
      "A standup Cloud Team\n",
      "B Architercute Board\n",
      "C Cloud Training\n"
     ]
    }
   ],
   "execution_count": 14
  },
  {
   "metadata": {
    "ExecuteTime": {
     "end_time": "2025-05-01T15:48:03.570960Z",
     "start_time": "2025-05-01T15:48:03.565576Z"
    }
   },
   "cell_type": "code",
   "source": [
    "def add_item_begin(my_collection, new_item):\n",
    "    new_item['prev'] = None\n",
    "    new_item['next'] = my_collection\n",
    "\n",
    "    if my_collection:\n",
    "        my_collection['prev'] = new_item\n",
    "\n",
    "    my_collection = new_item\n",
    "    return my_collection"
   ],
   "id": "6a13739b6f2b084d",
   "outputs": [],
   "execution_count": 15
  },
  {
   "metadata": {
    "ExecuteTime": {
     "end_time": "2025-05-01T15:48:09.175598Z",
     "start_time": "2025-05-01T15:48:09.169169Z"
    }
   },
   "cell_type": "code",
   "source": [
    "wi4 = {\n",
    "    'name': \"___ manager meeting\",\n",
    "    'start_hour': 7,\n",
    "    'duration_minutes': 120,\n",
    "    'prev': None,\n",
    "    'next': None,\n",
    "}"
   ],
   "id": "bd386774c6bb1e73",
   "outputs": [],
   "execution_count": 16
  },
  {
   "metadata": {
    "ExecuteTime": {
     "end_time": "2025-05-01T15:48:20.121267Z",
     "start_time": "2025-05-01T15:48:20.116176Z"
    }
   },
   "cell_type": "code",
   "source": "work = add_item_begin(work, wi4)",
   "id": "3ca159b94798a63e",
   "outputs": [],
   "execution_count": 17
  },
  {
   "metadata": {
    "ExecuteTime": {
     "end_time": "2025-05-01T15:48:22.924230Z",
     "start_time": "2025-05-01T15:48:22.915195Z"
    }
   },
   "cell_type": "code",
   "source": [
    "item = work\n",
    "while item:\n",
    "    print(item['name'])\n",
    "    item = item['next']"
   ],
   "id": "fb6a2b0cf90d21ca",
   "outputs": [
    {
     "name": "stdout",
     "output_type": "stream",
     "text": [
      "___ manager meeting\n",
      "A standup Cloud Team\n",
      "B Architercute Board\n",
      "C Cloud Training\n"
     ]
    }
   ],
   "execution_count": 18
  },
  {
   "metadata": {
    "ExecuteTime": {
     "end_time": "2025-05-01T15:53:33.537736Z",
     "start_time": "2025-05-01T15:53:33.520611Z"
    }
   },
   "cell_type": "code",
   "source": [
    "def add_item_end(my_collection, new_item):\n",
    "\n",
    "    if my_collection == None:\n",
    "        my_collection = new_item\n",
    "        my_collection['prev'] = None\n",
    "        my_collection['next'] = None\n",
    "        return my_collection\n",
    "    else:\n",
    "        item = my_collection\n",
    "        while item['next']:\n",
    "            item = item['next']\n",
    "\n",
    "        item['next'] = new_item\n",
    "        new_item['next'] = None\n",
    "        new_item['prev'] = item\n",
    "        return my_collection"
   ],
   "id": "476752d43c144fea",
   "outputs": [],
   "execution_count": 19
  },
  {
   "metadata": {
    "ExecuteTime": {
     "end_time": "2025-05-01T15:56:48.337154Z",
     "start_time": "2025-05-01T15:56:48.324508Z"
    }
   },
   "cell_type": "code",
   "source": [
    "wi5 = {\n",
    "    'name': \"Beer drinking\",\n",
    "    'start_hour': 7,\n",
    "    'duration_minutes': 120,\n",
    "    'prev': None,\n",
    "    'next': None,\n",
    "}"
   ],
   "id": "6db7320610cc22cb",
   "outputs": [],
   "execution_count": 20
  },
  {
   "metadata": {
    "ExecuteTime": {
     "end_time": "2025-05-01T15:57:25.557945Z",
     "start_time": "2025-05-01T15:57:25.543369Z"
    }
   },
   "cell_type": "code",
   "source": "work = add_item_end(work, wi5)",
   "id": "31656bd4f3b6dc89",
   "outputs": [],
   "execution_count": 21
  },
  {
   "metadata": {
    "ExecuteTime": {
     "end_time": "2025-05-01T15:57:38.590169Z",
     "start_time": "2025-05-01T15:57:38.586354Z"
    }
   },
   "cell_type": "code",
   "source": [
    "item = work\n",
    "while item:\n",
    "    print(item['name'])\n",
    "    item = item['next']"
   ],
   "id": "e3772cced0e4c266",
   "outputs": [
    {
     "name": "stdout",
     "output_type": "stream",
     "text": [
      "___ manager meeting\n",
      "A standup Cloud Team\n",
      "B Architercute Board\n",
      "C Cloud Training\n",
      "Beer drinking\n"
     ]
    }
   ],
   "execution_count": 23
  },
  {
   "metadata": {},
   "cell_type": "code",
   "outputs": [],
   "execution_count": null,
   "source": "",
   "id": "c8379c16309b57ee"
  }
 ],
 "metadata": {
  "kernelspec": {
   "display_name": "Python 3",
   "language": "python",
   "name": "python3"
  },
  "language_info": {
   "codemirror_mode": {
    "name": "ipython",
    "version": 2
   },
   "file_extension": ".py",
   "mimetype": "text/x-python",
   "name": "python",
   "nbconvert_exporter": "python",
   "pygments_lexer": "ipython2",
   "version": "2.7.6"
  }
 },
 "nbformat": 4,
 "nbformat_minor": 5
}
