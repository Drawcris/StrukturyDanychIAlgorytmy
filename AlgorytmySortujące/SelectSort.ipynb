{
 "cells": [
  {
   "cell_type": "code",
   "id": "initial_id",
   "metadata": {
    "collapsed": true,
    "ExecuteTime": {
     "end_time": "2025-05-11T14:09:00.338602Z",
     "start_time": "2025-05-11T14:09:00.327022Z"
    }
   },
   "source": "list_of_numbers = [9,2,5,1,4,3,8,7,6]",
   "outputs": [],
   "execution_count": 1
  },
  {
   "metadata": {
    "ExecuteTime": {
     "end_time": "2025-05-11T14:20:43.642386Z",
     "start_time": "2025-05-11T14:20:43.635377Z"
    }
   },
   "cell_type": "code",
   "source": [
    "def Select_sort(arr):\n",
    "\n",
    "    for run in range(len(arr)):\n",
    "        min_index = run\n",
    "        for i in range(run+1, len(arr)):\n",
    "            if arr[i] < arr[min_index]:\n",
    "                min_index = i\n",
    "        arr[run], arr[min_index] = arr[min_index], arr[run]\n"
   ],
   "id": "1fa148c8b0fb914f",
   "outputs": [],
   "execution_count": 2
  },
  {
   "metadata": {
    "ExecuteTime": {
     "end_time": "2025-05-11T14:24:39.995695Z",
     "start_time": "2025-05-11T14:24:39.987142Z"
    }
   },
   "cell_type": "code",
   "source": "Select_sort(list_of_numbers)",
   "id": "8b873d4f1507f9ff",
   "outputs": [],
   "execution_count": 3
  },
  {
   "metadata": {
    "ExecuteTime": {
     "end_time": "2025-05-11T14:24:45.618771Z",
     "start_time": "2025-05-11T14:24:45.607885Z"
    }
   },
   "cell_type": "code",
   "source": "list_of_numbers",
   "id": "2cd9f8541aed3f7a",
   "outputs": [
    {
     "data": {
      "text/plain": [
       "[1, 2, 3, 4, 5, 6, 7, 8, 9]"
      ]
     },
     "execution_count": 4,
     "metadata": {},
     "output_type": "execute_result"
    }
   ],
   "execution_count": 4
  },
  {
   "metadata": {},
   "cell_type": "code",
   "outputs": [],
   "execution_count": null,
   "source": "",
   "id": "dd168d3648620653"
  }
 ],
 "metadata": {
  "kernelspec": {
   "display_name": "Python 3",
   "language": "python",
   "name": "python3"
  },
  "language_info": {
   "codemirror_mode": {
    "name": "ipython",
    "version": 2
   },
   "file_extension": ".py",
   "mimetype": "text/x-python",
   "name": "python",
   "nbconvert_exporter": "python",
   "pygments_lexer": "ipython2",
   "version": "2.7.6"
  }
 },
 "nbformat": 4,
 "nbformat_minor": 5
}
