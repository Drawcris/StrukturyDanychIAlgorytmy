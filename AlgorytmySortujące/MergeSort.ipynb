{
 "cells": [
  {
   "cell_type": "code",
   "id": "initial_id",
   "metadata": {
    "collapsed": true,
    "ExecuteTime": {
     "end_time": "2025-05-18T20:51:44.506775Z",
     "start_time": "2025-05-18T20:51:44.501383Z"
    }
   },
   "source": "list_of_number = [9,7,5,3,1,2,4,6,8]",
   "outputs": [],
   "execution_count": 1
  },
  {
   "metadata": {
    "ExecuteTime": {
     "end_time": "2025-05-18T21:06:56.536332Z",
     "start_time": "2025-05-18T21:06:56.530052Z"
    }
   },
   "cell_type": "code",
   "source": [
    "def Merge_sort(arr):\n",
    "\n",
    "    list_len = len(arr)\n",
    "    sorted_list = []\n",
    "\n",
    "    if list_len <= 1:\n",
    "        sorted_list = arr\n",
    "    else:\n",
    "        middle_point = list_len // 2\n",
    "        list_left = Merge_sort(arr[:middle_point])\n",
    "        list_right = Merge_sort(arr[middle_point:])\n",
    "\n",
    "        idx_left = idx_right = 0\n",
    "        while idx_left < len(list_left) and idx_right < len(list_right):\n",
    "            if list_left[idx_left] < list_right[idx_right]:\n",
    "                sorted_list.append(list_left[idx_left])\n",
    "                idx_left += 1\n",
    "            else:\n",
    "                sorted_list.append(list_right[idx_right])\n",
    "                idx_right += 1\n",
    "\n",
    "        sorted_list.extend(list_left[idx_left:])\n",
    "        sorted_list.extend(list_right[idx_right:])\n",
    "\n",
    "        print(f\"DEBUG: {arr} ==> {sorted_list}\")\n",
    "    return sorted_list\n",
    "\n"
   ],
   "id": "56cd4ec3b78352ed",
   "outputs": [],
   "execution_count": 2
  },
  {
   "metadata": {
    "ExecuteTime": {
     "end_time": "2025-05-18T21:07:04.652551Z",
     "start_time": "2025-05-18T21:07:04.637082Z"
    }
   },
   "cell_type": "code",
   "source": "Merge_sort(list_of_number)",
   "id": "958adbb768de9166",
   "outputs": [
    {
     "name": "stdout",
     "output_type": "stream",
     "text": [
      "DEBUG: [9, 7] ==> [7, 9]\n",
      "DEBUG: [5, 3] ==> [3, 5]\n",
      "DEBUG: [9, 7, 5, 3] ==> [3, 5, 7, 9]\n",
      "DEBUG: [1, 2] ==> [1, 2]\n",
      "DEBUG: [6, 8] ==> [6, 8]\n",
      "DEBUG: [4, 6, 8] ==> [4, 6, 8]\n",
      "DEBUG: [1, 2, 4, 6, 8] ==> [1, 2, 4, 6, 8]\n",
      "DEBUG: [9, 7, 5, 3, 1, 2, 4, 6, 8] ==> [1, 2, 3, 4, 5, 6, 7, 8, 9]\n"
     ]
    },
    {
     "data": {
      "text/plain": [
       "[1, 2, 3, 4, 5, 6, 7, 8, 9]"
      ]
     },
     "execution_count": 3,
     "metadata": {},
     "output_type": "execute_result"
    }
   ],
   "execution_count": 3
  },
  {
   "metadata": {},
   "cell_type": "code",
   "outputs": [],
   "execution_count": null,
   "source": "",
   "id": "8902e2dcd5b52b58"
  }
 ],
 "metadata": {
  "kernelspec": {
   "display_name": "Python 3",
   "language": "python",
   "name": "python3"
  },
  "language_info": {
   "codemirror_mode": {
    "name": "ipython",
    "version": 2
   },
   "file_extension": ".py",
   "mimetype": "text/x-python",
   "name": "python",
   "nbconvert_exporter": "python",
   "pygments_lexer": "ipython2",
   "version": "2.7.6"
  }
 },
 "nbformat": 4,
 "nbformat_minor": 5
}
