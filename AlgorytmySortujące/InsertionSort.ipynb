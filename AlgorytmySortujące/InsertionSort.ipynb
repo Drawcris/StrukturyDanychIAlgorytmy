{
 "cells": [
  {
   "cell_type": "code",
   "id": "initial_id",
   "metadata": {
    "collapsed": true,
    "ExecuteTime": {
     "end_time": "2025-05-08T16:01:32.758929Z",
     "start_time": "2025-05-08T16:01:32.753565Z"
    }
   },
   "source": "list_of_numbers = [9,2,5,1,4,3,8,7,6]\n",
   "outputs": [],
   "execution_count": 22
  },
  {
   "metadata": {
    "ExecuteTime": {
     "end_time": "2025-05-08T16:01:40.964013Z",
     "start_time": "2025-05-08T16:01:40.955817Z"
    }
   },
   "cell_type": "code",
   "source": [
    "def insert_sort(arr):\n",
    "    for sort_border in range(1, len(arr)):\n",
    "        curr_index = sort_border - 1\n",
    "        value = arr[curr_index+1]\n",
    "\n",
    "        while arr[curr_index] > value and curr_index >= 0:\n",
    "            arr[curr_index+1] = arr[curr_index]\n",
    "            curr_index = curr_index - 1\n",
    "\n",
    "        arr[curr_index + 1] = value\n",
    "        print(f\"debug {sort_border}: {arr}\")"
   ],
   "id": "22002f7d2ca867fb",
   "outputs": [],
   "execution_count": 24
  },
  {
   "metadata": {
    "ExecuteTime": {
     "end_time": "2025-05-08T16:01:42.667629Z",
     "start_time": "2025-05-08T16:01:42.663631Z"
    }
   },
   "cell_type": "code",
   "source": "insert_sort(list_of_numbers)",
   "id": "c7a67e65ea3850de",
   "outputs": [
    {
     "name": "stdout",
     "output_type": "stream",
     "text": [
      "debug 1: [2, 9, 5, 1, 4, 3, 8, 7, 6]\n",
      "debug 2: [2, 5, 9, 1, 4, 3, 8, 7, 6]\n",
      "debug 3: [1, 2, 5, 9, 4, 3, 8, 7, 6]\n",
      "debug 4: [1, 2, 4, 5, 9, 3, 8, 7, 6]\n",
      "debug 5: [1, 2, 3, 4, 5, 9, 8, 7, 6]\n",
      "debug 6: [1, 2, 3, 4, 5, 8, 9, 7, 6]\n",
      "debug 7: [1, 2, 3, 4, 5, 7, 8, 9, 6]\n",
      "debug 8: [1, 2, 3, 4, 5, 6, 7, 8, 9]\n"
     ]
    }
   ],
   "execution_count": 25
  },
  {
   "metadata": {
    "ExecuteTime": {
     "end_time": "2025-05-08T16:02:44.996497Z",
     "start_time": "2025-05-08T16:02:44.981359Z"
    }
   },
   "cell_type": "code",
   "source": "list_of_numbers",
   "id": "a54af4d7a361be8e",
   "outputs": [
    {
     "data": {
      "text/plain": [
       "[1, 2, 3, 4, 5, 6, 7, 8, 9]"
      ]
     },
     "execution_count": 26,
     "metadata": {},
     "output_type": "execute_result"
    }
   ],
   "execution_count": 26
  },
  {
   "metadata": {},
   "cell_type": "code",
   "outputs": [],
   "execution_count": null,
   "source": "",
   "id": "56c6beafa1d56410"
  }
 ],
 "metadata": {
  "kernelspec": {
   "display_name": "Python 3",
   "language": "python",
   "name": "python3"
  },
  "language_info": {
   "codemirror_mode": {
    "name": "ipython",
    "version": 2
   },
   "file_extension": ".py",
   "mimetype": "text/x-python",
   "name": "python",
   "nbconvert_exporter": "python",
   "pygments_lexer": "ipython2",
   "version": "2.7.6"
  }
 },
 "nbformat": 4,
 "nbformat_minor": 5
}
