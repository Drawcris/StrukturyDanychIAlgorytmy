{
 "cells": [
  {
   "cell_type": "code",
   "id": "initial_id",
   "metadata": {
    "collapsed": true,
    "ExecuteTime": {
     "end_time": "2025-05-21T21:17:30.711589Z",
     "start_time": "2025-05-21T21:17:30.704823Z"
    }
   },
   "source": "list_of_numbers = [9,1,3,5,2,4,7,6,8]",
   "outputs": [],
   "execution_count": 5
  },
  {
   "metadata": {
    "ExecuteTime": {
     "end_time": "2025-05-21T21:21:02.069089Z",
     "start_time": "2025-05-21T21:21:02.062847Z"
    }
   },
   "cell_type": "code",
   "source": [
    "def divide(arr, start, end):\n",
    "\n",
    "    i = start\n",
    "    border_value = arr[end]\n",
    "\n",
    "    for j in range(start, end):\n",
    "\n",
    "        if arr[j] <= border_value:\n",
    "            arr[i], arr[j] = arr[j], arr[i]\n",
    "            i += 1\n",
    "\n",
    "    arr[i], arr[end] = arr[end], arr[i]\n",
    "    return i\n",
    "\n",
    "def quick_sort(arr, start, end):\n",
    "\n",
    "    if start < end:\n",
    "\n",
    "        border_index = divide(arr, start, end)\n",
    "        quick_sort(arr, start, border_index - 1)\n",
    "        quick_sort(arr, border_index + 1, end)"
   ],
   "id": "c6755249ebe2d678",
   "outputs": [],
   "execution_count": 11
  },
  {
   "metadata": {
    "ExecuteTime": {
     "end_time": "2025-05-21T21:21:03.483962Z",
     "start_time": "2025-05-21T21:21:03.466162Z"
    }
   },
   "cell_type": "code",
   "source": "quick_sort(list_of_numbers, 0, len(list_of_numbers) - 1)",
   "id": "1e92c90823c2d283",
   "outputs": [],
   "execution_count": 12
  },
  {
   "metadata": {
    "ExecuteTime": {
     "end_time": "2025-05-21T21:21:07.993471Z",
     "start_time": "2025-05-21T21:21:07.986126Z"
    }
   },
   "cell_type": "code",
   "source": "list_of_numbers",
   "id": "c623ebf9ac72cc0",
   "outputs": [
    {
     "data": {
      "text/plain": [
       "[1, 2, 3, 4, 5, 6, 7, 8, 9]"
      ]
     },
     "execution_count": 13,
     "metadata": {},
     "output_type": "execute_result"
    }
   ],
   "execution_count": 13
  },
  {
   "metadata": {},
   "cell_type": "code",
   "outputs": [],
   "execution_count": null,
   "source": "",
   "id": "bde1f54c6044fb8f"
  }
 ],
 "metadata": {
  "kernelspec": {
   "display_name": "Python 3",
   "language": "python",
   "name": "python3"
  },
  "language_info": {
   "codemirror_mode": {
    "name": "ipython",
    "version": 2
   },
   "file_extension": ".py",
   "mimetype": "text/x-python",
   "name": "python",
   "nbconvert_exporter": "python",
   "pygments_lexer": "ipython2",
   "version": "2.7.6"
  }
 },
 "nbformat": 4,
 "nbformat_minor": 5
}
