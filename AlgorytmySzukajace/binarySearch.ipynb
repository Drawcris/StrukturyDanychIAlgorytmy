{
 "cells": [
  {
   "cell_type": "code",
   "id": "initial_id",
   "metadata": {
    "collapsed": true,
    "ExecuteTime": {
     "end_time": "2025-05-22T13:42:33.901125Z",
     "start_time": "2025-05-22T13:42:33.892425Z"
    }
   },
   "source": "list_of_number = [1, 2, 3, 4, 5, 6, 7, 8, 9]",
   "outputs": [],
   "execution_count": 1
  },
  {
   "metadata": {
    "ExecuteTime": {
     "end_time": "2025-05-22T14:01:07.928Z",
     "start_time": "2025-05-22T14:01:07.912064Z"
    }
   },
   "cell_type": "code",
   "source": [
    "def binary_search(arr, target):\n",
    "\n",
    "    start = 0\n",
    "    end = len(arr) - 1\n",
    "    found = False\n",
    "\n",
    "    while start <= end and not found:\n",
    "        print(f\"start: {start} -  {end}\")\n",
    "        mid = (start + end) // 2\n",
    "        if arr[mid] == target:\n",
    "            found = True\n",
    "        else:\n",
    "            if target < arr[mid]:\n",
    "                end = mid - 1\n",
    "            else:\n",
    "                start = mid + 1\n",
    "    if found:\n",
    "        return mid\n",
    "    else:\n",
    "        return None\n"
   ],
   "id": "fafb384711256f32",
   "outputs": [],
   "execution_count": 11
  },
  {
   "metadata": {
    "ExecuteTime": {
     "end_time": "2025-05-22T14:01:14.416283Z",
     "start_time": "2025-05-22T14:01:14.400854Z"
    }
   },
   "cell_type": "code",
   "source": [
    "value = 6\n",
    "idx = binary_search(list_of_number, value)\n",
    "print(f\"{value} is on the {list_of_number} on position {idx}\")"
   ],
   "id": "c0a1109ae1b47629",
   "outputs": [
    {
     "name": "stdout",
     "output_type": "stream",
     "text": [
      "start: 0 -  8\n",
      "start: 5 -  8\n",
      "start: 5 -  5\n",
      "6 is on the [1, 2, 3, 4, 5, 6, 7, 8, 9] on position 5\n"
     ]
    }
   ],
   "execution_count": 12
  },
  {
   "metadata": {
    "ExecuteTime": {
     "end_time": "2025-05-22T14:01:04.564797Z",
     "start_time": "2025-05-22T14:01:04.562642Z"
    }
   },
   "cell_type": "code",
   "source": "",
   "id": "9358481357bff248",
   "outputs": [],
   "execution_count": null
  },
  {
   "metadata": {},
   "cell_type": "code",
   "outputs": [],
   "execution_count": null,
   "source": "",
   "id": "19cb020557888f86"
  }
 ],
 "metadata": {
  "kernelspec": {
   "display_name": "Python 3",
   "language": "python",
   "name": "python3"
  },
  "language_info": {
   "codemirror_mode": {
    "name": "ipython",
    "version": 2
   },
   "file_extension": ".py",
   "mimetype": "text/x-python",
   "name": "python",
   "nbconvert_exporter": "python",
   "pygments_lexer": "ipython2",
   "version": "2.7.6"
  }
 },
 "nbformat": 4,
 "nbformat_minor": 5
}
