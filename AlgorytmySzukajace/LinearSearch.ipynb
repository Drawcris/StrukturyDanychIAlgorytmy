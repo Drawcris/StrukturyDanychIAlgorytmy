{
 "cells": [
  {
   "metadata": {
    "ExecuteTime": {
     "end_time": "2025-05-22T13:26:39.260774Z",
     "start_time": "2025-05-22T13:26:39.251050Z"
    }
   },
   "cell_type": "code",
   "source": "numbers = [9,5,1,2,4,3,8,7,6]",
   "id": "b1a87887ab862320",
   "outputs": [],
   "execution_count": 7
  },
  {
   "metadata": {
    "ExecuteTime": {
     "end_time": "2025-05-22T13:31:19.108228Z",
     "start_time": "2025-05-22T13:31:19.094346Z"
    }
   },
   "cell_type": "code",
   "source": [
    "def linear_search(number_to_find, list_to_search):\n",
    "    \"\"\"\n",
    "        This function implements a linear search algorithm to find a number in a list.\n",
    "        it returns a tuple with a boolean indicating if the number was found and the index of the number in the list.\n",
    "        and the index of the number in the list.\n",
    "    \"\"\"\n",
    "    idx = 0\n",
    "    found = False\n",
    "\n",
    "    while not found and idx < len(list_to_search):\n",
    "        if list_to_search[idx] == number_to_find:\n",
    "            found = True\n",
    "        else:\n",
    "            idx += 1\n",
    "    return found, idx if idx < len(list_to_search) else None"
   ],
   "id": "8a0930927ed686e3",
   "outputs": [],
   "execution_count": 29
  },
  {
   "metadata": {
    "ExecuteTime": {
     "end_time": "2025-05-22T13:31:25.381011Z",
     "start_time": "2025-05-22T13:31:25.372929Z"
    }
   },
   "cell_type": "code",
   "source": "linear_search(1, numbers)",
   "id": "f3c916f14d631655",
   "outputs": [
    {
     "data": {
      "text/plain": [
       "(True, 2)"
      ]
     },
     "execution_count": 31,
     "metadata": {},
     "output_type": "execute_result"
    }
   ],
   "execution_count": 31
  },
  {
   "metadata": {},
   "cell_type": "code",
   "outputs": [],
   "execution_count": null,
   "source": "",
   "id": "dee906885490a0a9"
  }
 ],
 "metadata": {
  "kernelspec": {
   "display_name": "Python 3",
   "language": "python",
   "name": "python3"
  },
  "language_info": {
   "codemirror_mode": {
    "name": "ipython",
    "version": 2
   },
   "file_extension": ".py",
   "mimetype": "text/x-python",
   "name": "python",
   "nbconvert_exporter": "python",
   "pygments_lexer": "ipython2",
   "version": "2.7.6"
  }
 },
 "nbformat": 4,
 "nbformat_minor": 5
}
